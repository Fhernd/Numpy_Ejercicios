{
 "cells": [
  {
   "cell_type": "markdown",
   "metadata": {},
   "source": [
    "# Ejercicio 62\n",
    "\n",
    "Mostrar todas las fechas del mes de febrero de 2019."
   ]
  },
  {
   "cell_type": "markdown",
   "metadata": {},
   "source": [
    "## Solución:"
   ]
  },
  {
   "cell_type": "code",
   "execution_count": 1,
   "metadata": {},
   "outputs": [],
   "source": [
    "import numpy as np"
   ]
  },
  {
   "cell_type": "code",
   "execution_count": 2,
   "metadata": {},
   "outputs": [
    {
     "data": {
      "text/plain": [
       "array(['2019-02-01', '2019-02-02', '2019-02-03', '2019-02-04',\n",
       "       '2019-02-05', '2019-02-06', '2019-02-07', '2019-02-08',\n",
       "       '2019-02-09', '2019-02-10', '2019-02-11', '2019-02-12',\n",
       "       '2019-02-13', '2019-02-14', '2019-02-15', '2019-02-16',\n",
       "       '2019-02-17', '2019-02-18', '2019-02-19', '2019-02-20',\n",
       "       '2019-02-21', '2019-02-22', '2019-02-23', '2019-02-24',\n",
       "       '2019-02-25', '2019-02-26', '2019-02-27', '2019-02-28'],\n",
       "      dtype='datetime64[D]')"
      ]
     },
     "execution_count": 2,
     "metadata": {},
     "output_type": "execute_result"
    }
   ],
   "source": [
    "np.arange('2019-02', '2019-03', dtype='datetime64[D]')"
   ]
  },
  {
   "cell_type": "markdown",
   "metadata": {},
   "source": [
    "# Ejercicio 63\n",
    "\n",
    "Obtener la fecha de ayer, hoy, y mañana."
   ]
  },
  {
   "cell_type": "markdown",
   "metadata": {},
   "source": [
    "## Solución:"
   ]
  },
  {
   "cell_type": "code",
   "execution_count": 3,
   "metadata": {},
   "outputs": [],
   "source": [
    "import numpy as np"
   ]
  },
  {
   "cell_type": "code",
   "execution_count": 4,
   "metadata": {},
   "outputs": [
    {
     "data": {
      "text/plain": [
       "numpy.datetime64('2019-02-12')"
      ]
     },
     "execution_count": 4,
     "metadata": {},
     "output_type": "execute_result"
    }
   ],
   "source": [
    "ayer = np.datetime64('today', 'D') - np.timedelta64(1, 'D')\n",
    "ayer"
   ]
  },
  {
   "cell_type": "code",
   "execution_count": 5,
   "metadata": {},
   "outputs": [
    {
     "data": {
      "text/plain": [
       "numpy.datetime64('2019-02-13')"
      ]
     },
     "execution_count": 5,
     "metadata": {},
     "output_type": "execute_result"
    }
   ],
   "source": [
    "hoy = np.datetime64('today', 'D')\n",
    "hoy"
   ]
  },
  {
   "cell_type": "code",
   "execution_count": 6,
   "metadata": {},
   "outputs": [
    {
     "data": {
      "text/plain": [
       "numpy.datetime64('2019-02-14')"
      ]
     },
     "execution_count": 6,
     "metadata": {},
     "output_type": "execute_result"
    }
   ],
   "source": [
    "maghniana = np.datetime64('today', 'D') + np.timedelta64(1, 'D')\n",
    "maghniana"
   ]
  },
  {
   "cell_type": "markdown",
   "metadata": {},
   "source": [
    "# Ejercicio 64\n",
    "\n",
    "Contar el número de días de febrero y marzo de 2019."
   ]
  },
  {
   "cell_type": "markdown",
   "metadata": {},
   "source": [
    "## Solución:"
   ]
  },
  {
   "cell_type": "code",
   "execution_count": 7,
   "metadata": {},
   "outputs": [],
   "source": [
    "import numpy as np"
   ]
  },
  {
   "cell_type": "code",
   "execution_count": 8,
   "metadata": {},
   "outputs": [
    {
     "data": {
      "text/plain": [
       "numpy.timedelta64(28,'D')"
      ]
     },
     "execution_count": 8,
     "metadata": {},
     "output_type": "execute_result"
    }
   ],
   "source": [
    "np.datetime64('2019-03-01') - np.datetime64('2019-02-01')"
   ]
  },
  {
   "cell_type": "code",
   "execution_count": 9,
   "metadata": {},
   "outputs": [
    {
     "data": {
      "text/plain": [
       "numpy.timedelta64(31,'D')"
      ]
     },
     "execution_count": 9,
     "metadata": {},
     "output_type": "execute_result"
    }
   ],
   "source": [
    "np.datetime64('2019-04-01') - np.datetime64('2019-03-01')"
   ]
  },
  {
   "cell_type": "markdown",
   "metadata": {},
   "source": [
    "# Ejercicio 65\n",
    "\n",
    "Crear el rango de 24 horas para un día arbitrario."
   ]
  },
  {
   "cell_type": "markdown",
   "metadata": {},
   "source": [
    "## Solución:"
   ]
  },
  {
   "cell_type": "code",
   "execution_count": 10,
   "metadata": {},
   "outputs": [],
   "source": [
    "import numpy as np\n",
    "import datetime"
   ]
  },
  {
   "cell_type": "code",
   "execution_count": 11,
   "metadata": {},
   "outputs": [],
   "source": [
    "fecha = datetime.datetime(2019, 2, 11)"
   ]
  },
  {
   "cell_type": "code",
   "execution_count": 12,
   "metadata": {},
   "outputs": [
    {
     "data": {
      "text/plain": [
       "array([datetime.datetime(2019, 2, 11, 0, 0),\n",
       "       datetime.datetime(2019, 2, 11, 1, 0),\n",
       "       datetime.datetime(2019, 2, 11, 2, 0),\n",
       "       datetime.datetime(2019, 2, 11, 3, 0),\n",
       "       datetime.datetime(2019, 2, 11, 4, 0),\n",
       "       datetime.datetime(2019, 2, 11, 5, 0),\n",
       "       datetime.datetime(2019, 2, 11, 6, 0),\n",
       "       datetime.datetime(2019, 2, 11, 7, 0),\n",
       "       datetime.datetime(2019, 2, 11, 8, 0),\n",
       "       datetime.datetime(2019, 2, 11, 9, 0),\n",
       "       datetime.datetime(2019, 2, 11, 10, 0),\n",
       "       datetime.datetime(2019, 2, 11, 11, 0),\n",
       "       datetime.datetime(2019, 2, 11, 12, 0),\n",
       "       datetime.datetime(2019, 2, 11, 13, 0),\n",
       "       datetime.datetime(2019, 2, 11, 14, 0),\n",
       "       datetime.datetime(2019, 2, 11, 15, 0),\n",
       "       datetime.datetime(2019, 2, 11, 16, 0),\n",
       "       datetime.datetime(2019, 2, 11, 17, 0),\n",
       "       datetime.datetime(2019, 2, 11, 18, 0),\n",
       "       datetime.datetime(2019, 2, 11, 19, 0),\n",
       "       datetime.datetime(2019, 2, 11, 20, 0),\n",
       "       datetime.datetime(2019, 2, 11, 21, 0),\n",
       "       datetime.datetime(2019, 2, 11, 22, 0),\n",
       "       datetime.datetime(2019, 2, 11, 23, 0)], dtype=object)"
      ]
     },
     "execution_count": 12,
     "metadata": {},
     "output_type": "execute_result"
    }
   ],
   "source": [
    "horas_fecha = np.array([fecha + datetime.timedelta(hours=i) for i in range(24)])\n",
    "\n",
    "horas_fecha"
   ]
  },
  {
   "cell_type": "markdown",
   "metadata": {},
   "source": [
    "# Ejercicio 66\n",
    "\n",
    "Encontrar la fecha del primer martes del mes de mayo de 2019."
   ]
  },
  {
   "cell_type": "markdown",
   "metadata": {},
   "source": [
    "## Solución:"
   ]
  },
  {
   "cell_type": "code",
   "execution_count": 13,
   "metadata": {},
   "outputs": [],
   "source": [
    "import numpy as np"
   ]
  },
  {
   "cell_type": "code",
   "execution_count": 14,
   "metadata": {},
   "outputs": [
    {
     "data": {
      "text/plain": [
       "numpy.datetime64('2019-05-07')"
      ]
     },
     "execution_count": 14,
     "metadata": {},
     "output_type": "execute_result"
    }
   ],
   "source": [
    "np.busday_offset('2019-05', 0, roll='forward', weekmask='Tue')"
   ]
  },
  {
   "cell_type": "markdown",
   "metadata": {},
   "source": [
    "# Ejercicio 67\n",
    "\n",
    "Encontrar la cantidad de días laborales para un mes arbitrario."
   ]
  },
  {
   "cell_type": "markdown",
   "metadata": {},
   "source": [
    "## Solución:"
   ]
  },
  {
   "cell_type": "code",
   "execution_count": 15,
   "metadata": {},
   "outputs": [],
   "source": [
    "import numpy as np"
   ]
  },
  {
   "cell_type": "code",
   "execution_count": 16,
   "metadata": {},
   "outputs": [
    {
     "data": {
      "text/plain": [
       "23"
      ]
     },
     "execution_count": 16,
     "metadata": {},
     "output_type": "execute_result"
    }
   ],
   "source": [
    "np.busday_count('2019-05', '2019-06')"
   ]
  },
  {
   "cell_type": "markdown",
   "metadata": {},
   "source": [
    "# Ejercicio 68\n",
    "\n",
    "Determinar si una fecha corresponde con un día laboral."
   ]
  },
  {
   "cell_type": "markdown",
   "metadata": {},
   "source": [
    "## Solución:"
   ]
  },
  {
   "cell_type": "code",
   "execution_count": 17,
   "metadata": {},
   "outputs": [],
   "source": [
    "import numpy as np"
   ]
  },
  {
   "cell_type": "code",
   "execution_count": 18,
   "metadata": {},
   "outputs": [
    {
     "data": {
      "text/plain": [
       "True"
      ]
     },
     "execution_count": 18,
     "metadata": {},
     "output_type": "execute_result"
    }
   ],
   "source": [
    "np.is_busday(np.datetime64('2019-02-11'))"
   ]
  },
  {
   "cell_type": "code",
   "execution_count": 19,
   "metadata": {},
   "outputs": [
    {
     "data": {
      "text/plain": [
       "False"
      ]
     },
     "execution_count": 19,
     "metadata": {},
     "output_type": "execute_result"
    }
   ],
   "source": [
    "np.is_busday(np.datetime64('2019-02-09'))"
   ]
  },
  {
   "cell_type": "markdown",
   "metadata": {},
   "source": [
    "# Ejercicio 69\n",
    "\n",
    "Sumar un rango con 15 valores a un arreglo de fechas que contienela fecha 2019-09-12."
   ]
  },
  {
   "cell_type": "markdown",
   "metadata": {},
   "source": [
    "## Solución:"
   ]
  },
  {
   "cell_type": "code",
   "execution_count": 20,
   "metadata": {},
   "outputs": [],
   "source": [
    "import numpy as np"
   ]
  },
  {
   "cell_type": "code",
   "execution_count": 21,
   "metadata": {},
   "outputs": [
    {
     "data": {
      "text/plain": [
       "array('2019-09-12', dtype='datetime64[D]')"
      ]
     },
     "execution_count": 21,
     "metadata": {},
     "output_type": "execute_result"
    }
   ],
   "source": [
    "fechas = np.array('2019-09-12', dtype=np.datetime64)\n",
    "fechas"
   ]
  },
  {
   "cell_type": "code",
   "execution_count": 22,
   "metadata": {},
   "outputs": [
    {
     "data": {
      "text/plain": [
       "array(['2019-09-12', '2019-09-13', '2019-09-14', '2019-09-15',\n",
       "       '2019-09-16', '2019-09-17', '2019-09-18', '2019-09-19',\n",
       "       '2019-09-20', '2019-09-21', '2019-09-22', '2019-09-23',\n",
       "       '2019-09-24', '2019-09-25', '2019-09-26'], dtype='datetime64[D]')"
      ]
     },
     "execution_count": 22,
     "metadata": {},
     "output_type": "execute_result"
    }
   ],
   "source": [
    "fechas + np.arange(15)"
   ]
  },
  {
   "cell_type": "markdown",
   "metadata": {},
   "source": [
    "# Ejercicio 70\n",
    "\n",
    "Convertir una fecha arbitraria de tipo `datetime64` (NumPy) a un objeto `datetime` (Python)."
   ]
  },
  {
   "cell_type": "markdown",
   "metadata": {},
   "source": [
    "## Solución:"
   ]
  },
  {
   "cell_type": "code",
   "execution_count": 23,
   "metadata": {},
   "outputs": [],
   "source": [
    "import numpy as np"
   ]
  },
  {
   "cell_type": "code",
   "execution_count": 24,
   "metadata": {},
   "outputs": [
    {
     "data": {
      "text/plain": [
       "numpy.datetime64('2019-05-19T21:14:31')"
      ]
     },
     "execution_count": 24,
     "metadata": {},
     "output_type": "execute_result"
    }
   ],
   "source": [
    "fecha_np = np.datetime64('2019-05-19 21:14:31')\n",
    "fecha_np"
   ]
  },
  {
   "cell_type": "code",
   "execution_count": 25,
   "metadata": {},
   "outputs": [],
   "source": [
    "from datetime import datetime"
   ]
  },
  {
   "cell_type": "code",
   "execution_count": 26,
   "metadata": {},
   "outputs": [
    {
     "data": {
      "text/plain": [
       "datetime.datetime(2019, 5, 19, 21, 14, 31)"
      ]
     },
     "execution_count": 26,
     "metadata": {},
     "output_type": "execute_result"
    }
   ],
   "source": [
    "fecha_np.tolist()"
   ]
  },
  {
   "cell_type": "code",
   "execution_count": 27,
   "metadata": {},
   "outputs": [
    {
     "data": {
      "text/plain": [
       "datetime.datetime(2019, 5, 19, 21, 14, 31)"
      ]
     },
     "execution_count": 27,
     "metadata": {},
     "output_type": "execute_result"
    }
   ],
   "source": [
    "fecha_np.astype(datetime)"
   ]
  }
 ],
 "metadata": {
  "kernelspec": {
   "display_name": "Python 3",
   "language": "python",
   "name": "python3"
  },
  "language_info": {
   "codemirror_mode": {
    "name": "ipython",
    "version": 3
   },
   "file_extension": ".py",
   "mimetype": "text/x-python",
   "name": "python",
   "nbconvert_exporter": "python",
   "pygments_lexer": "ipython3",
   "version": "3.7.1"
  }
 },
 "nbformat": 4,
 "nbformat_minor": 2
}
