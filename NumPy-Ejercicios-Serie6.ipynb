{
 "cells": [
  {
   "cell_type": "markdown",
   "metadata": {},
   "source": [
    "# Ejercicio 165\n",
    "\n",
    "Generar 10 números aleatorios a partir de una distribución normal."
   ]
  },
  {
   "cell_type": "markdown",
   "metadata": {},
   "source": [
    "## Solución:"
   ]
  },
  {
   "cell_type": "code",
   "execution_count": 1,
   "metadata": {},
   "outputs": [],
   "source": [
    "import numpy as np"
   ]
  },
  {
   "cell_type": "code",
   "execution_count": 2,
   "metadata": {},
   "outputs": [
    {
     "data": {
      "text/plain": [
       "array([-1.06887592, -0.03187524,  1.47892606, -0.86922781, -1.40688985,\n",
       "       -0.75154757, -0.36604557, -2.2337027 , -0.20955504, -0.96075768])"
      ]
     },
     "execution_count": 2,
     "metadata": {},
     "output_type": "execute_result"
    }
   ],
   "source": [
    "arreglo = np.random.normal(size=10)\n",
    "\n",
    "arreglo"
   ]
  },
  {
   "cell_type": "markdown",
   "metadata": {},
   "source": [
    "# Ejercicio 166\n",
    "\n",
    "Generar 10 valores enteros entre 1 y 30."
   ]
  },
  {
   "cell_type": "markdown",
   "metadata": {},
   "source": [
    "## Solución:"
   ]
  },
  {
   "cell_type": "code",
   "execution_count": 3,
   "metadata": {},
   "outputs": [],
   "source": [
    "import numpy as np"
   ]
  },
  {
   "cell_type": "code",
   "execution_count": 4,
   "metadata": {},
   "outputs": [
    {
     "data": {
      "text/plain": [
       "array([12, 16,  2, 16, 25, 26, 29, 14,  8, 29])"
      ]
     },
     "execution_count": 4,
     "metadata": {},
     "output_type": "execute_result"
    }
   ],
   "source": [
    "np.random.randint(low=1, high=30, size=10)"
   ]
  },
  {
   "cell_type": "markdown",
   "metadata": {},
   "source": [
    "# Ejercicio 167\n",
    "\n",
    "Generar un panel (cubo) de tamaño 4x4x4 que contenga números aleatorios."
   ]
  },
  {
   "cell_type": "markdown",
   "metadata": {},
   "source": [
    "## Solución:"
   ]
  },
  {
   "cell_type": "code",
   "execution_count": 5,
   "metadata": {},
   "outputs": [],
   "source": [
    "import numpy as np"
   ]
  },
  {
   "cell_type": "code",
   "execution_count": 6,
   "metadata": {},
   "outputs": [
    {
     "data": {
      "text/plain": [
       "array([[[0.52496645, 0.58363829, 0.25871867, 0.60308887],\n",
       "        [0.55205983, 0.44430436, 0.28395769, 0.36390762],\n",
       "        [0.61522471, 0.04214838, 0.5762407 , 0.7670476 ],\n",
       "        [0.09706712, 0.44673486, 0.13466259, 0.27555656]],\n",
       "\n",
       "       [[0.10572225, 0.24891622, 0.4517817 , 0.90424005],\n",
       "        [0.31199521, 0.09151868, 0.1002408 , 0.33490124],\n",
       "        [0.65859154, 0.51291323, 0.13251564, 0.87291355],\n",
       "        [0.08937208, 0.51476334, 0.22842358, 0.5489599 ]],\n",
       "\n",
       "       [[0.57163393, 0.52050507, 0.23431743, 0.37602816],\n",
       "        [0.92371347, 0.2981394 , 0.16040589, 0.57353333],\n",
       "        [0.02034896, 0.53480865, 0.00571434, 0.06436409],\n",
       "        [0.13440857, 0.54137006, 0.38006384, 0.75786673]],\n",
       "\n",
       "       [[0.7479763 , 0.7830116 , 0.80539608, 0.05460244],\n",
       "        [0.15371591, 0.27397267, 0.45498309, 0.75997692],\n",
       "        [0.23887472, 0.25758288, 0.11397708, 0.44586347],\n",
       "        [0.2009914 , 0.24877352, 0.49242981, 0.39066757]]])"
      ]
     },
     "execution_count": 6,
     "metadata": {},
     "output_type": "execute_result"
    }
   ],
   "source": [
    "panel = np.random.random((4, 4, 4))\n",
    "\n",
    "panel"
   ]
  },
  {
   "cell_type": "markdown",
   "metadata": {},
   "source": [
    "# Ejercicio 168\n",
    "\n",
    "Crear una matriz de 4x4 con elementos aleatorios, y obtener el mínimo y el máximo de sus elementos."
   ]
  },
  {
   "cell_type": "markdown",
   "metadata": {},
   "source": [
    "## Solución:"
   ]
  },
  {
   "cell_type": "code",
   "execution_count": 7,
   "metadata": {},
   "outputs": [],
   "source": [
    "import numpy as np"
   ]
  },
  {
   "cell_type": "code",
   "execution_count": 8,
   "metadata": {},
   "outputs": [
    {
     "data": {
      "text/plain": [
       "array([[0.43565376, 0.76142883, 0.00153494, 0.72221542],\n",
       "       [0.31560516, 0.46319064, 0.03310022, 0.62645212],\n",
       "       [0.70661491, 0.37349807, 0.52730119, 0.14414834],\n",
       "       [0.5374711 , 0.39477395, 0.84716902, 0.20019649]])"
      ]
     },
     "execution_count": 8,
     "metadata": {},
     "output_type": "execute_result"
    }
   ],
   "source": [
    "m = np.random.random((4, 4))\n",
    "\n",
    "m"
   ]
  },
  {
   "cell_type": "code",
   "execution_count": 9,
   "metadata": {},
   "outputs": [
    {
     "data": {
      "text/plain": [
       "0.0015349401501595361"
      ]
     },
     "execution_count": 9,
     "metadata": {},
     "output_type": "execute_result"
    }
   ],
   "source": [
    "m.min()"
   ]
  },
  {
   "cell_type": "code",
   "execution_count": 10,
   "metadata": {},
   "outputs": [
    {
     "data": {
      "text/plain": [
       "0.8471690190318865"
      ]
     },
     "execution_count": 10,
     "metadata": {},
     "output_type": "execute_result"
    }
   ],
   "source": [
    "m.max()"
   ]
  },
  {
   "cell_type": "markdown",
   "metadata": {},
   "source": [
    "# Ejercicio 169\n",
    "\n",
    "Crear una matriz de 15x15, y luego extraer las primeras 7 filas y almacernarlas en una variable."
   ]
  },
  {
   "cell_type": "markdown",
   "metadata": {},
   "source": [
    "## Solución:"
   ]
  },
  {
   "cell_type": "code",
   "execution_count": 11,
   "metadata": {},
   "outputs": [],
   "source": [
    "import numpy as np"
   ]
  },
  {
   "cell_type": "code",
   "execution_count": 12,
   "metadata": {},
   "outputs": [
    {
     "data": {
      "text/plain": [
       "array([[0.64769422, 0.01280197, 0.10332379, 0.32472542, 0.53926875,\n",
       "        0.35774078, 0.15711208, 0.91487455, 0.96151735, 0.8574861 ,\n",
       "        0.2787421 , 0.97627813, 0.16413232, 0.77497004, 0.93129065],\n",
       "       [0.87966714, 0.67802113, 0.52240717, 0.00129652, 0.24219206,\n",
       "        0.29573666, 0.59375003, 0.9167803 , 0.83977965, 0.57015565,\n",
       "        0.49405311, 0.60344976, 0.71880822, 0.42688501, 0.78744598],\n",
       "       [0.23115814, 0.44284138, 0.559001  , 0.87296734, 0.83385501,\n",
       "        0.76287263, 0.18725481, 0.93564721, 0.03235705, 0.06040263,\n",
       "        0.36773658, 0.01834783, 0.25708776, 0.25396127, 0.99125592],\n",
       "       [0.53412026, 0.54795275, 0.4190027 , 0.74076988, 0.52652915,\n",
       "        0.77792548, 0.98081671, 0.29226625, 0.76875547, 0.75182905,\n",
       "        0.62994052, 0.02348766, 0.33351113, 0.29116542, 0.34284718],\n",
       "       [0.06004679, 0.3629819 , 0.45489988, 0.59510196, 0.64351631,\n",
       "        0.62140415, 0.72591893, 0.04797569, 0.14897765, 0.24530517,\n",
       "        0.84443655, 0.33352077, 0.01457049, 0.58208861, 0.66604658],\n",
       "       [0.88389317, 0.75294579, 0.5758225 , 0.19107437, 0.41112764,\n",
       "        0.42847477, 0.21291358, 0.76063809, 0.76406524, 0.27786192,\n",
       "        0.11715043, 0.34787207, 0.2108831 , 0.16040715, 0.99051515],\n",
       "       [0.34036683, 0.20182696, 0.31144307, 0.73699821, 0.01806397,\n",
       "        0.74629637, 0.45469551, 0.18806315, 0.10009931, 0.74903824,\n",
       "        0.10500258, 0.98127472, 0.65259609, 0.9396197 , 0.94090172],\n",
       "       [0.78337785, 0.26273543, 0.75047908, 0.42452973, 0.19312705,\n",
       "        0.57831509, 0.9718943 , 0.35346302, 0.9332835 , 0.33824571,\n",
       "        0.45380113, 0.67271976, 0.30142037, 0.97784579, 0.99325811],\n",
       "       [0.55218656, 0.67937575, 0.5281673 , 0.23838269, 0.28483763,\n",
       "        0.13553149, 0.20499623, 0.97508335, 0.13827528, 0.01108629,\n",
       "        0.07578318, 0.57539883, 0.81050646, 0.67958614, 0.95078652],\n",
       "       [0.6446396 , 0.62516469, 0.86275587, 0.27198486, 0.07693325,\n",
       "        0.07361576, 0.91289043, 0.01948493, 0.01705263, 0.8285084 ,\n",
       "        0.80085887, 0.50218598, 0.31310783, 0.21245871, 0.16373965],\n",
       "       [0.34265818, 0.34167176, 0.71314784, 0.23273083, 0.48368295,\n",
       "        0.80415759, 0.5212049 , 0.7438377 , 0.68250753, 0.56966597,\n",
       "        0.6748693 , 0.40179495, 0.43541608, 0.57560845, 0.09935824],\n",
       "       [0.46197936, 0.48878296, 0.72942698, 0.41427348, 0.97845704,\n",
       "        0.86283648, 0.01356217, 0.79906504, 0.62795523, 0.24777641,\n",
       "        0.11024501, 0.35648942, 0.52759138, 0.33766078, 0.89142791],\n",
       "       [0.66959005, 0.29682607, 0.24899408, 0.32537781, 0.09987803,\n",
       "        0.50793979, 0.31885937, 0.52840067, 0.55464389, 0.99363509,\n",
       "        0.90831377, 0.59534726, 0.28538442, 0.0442661 , 0.11919888],\n",
       "       [0.25451728, 0.4838595 , 0.69416996, 0.66129378, 0.04573529,\n",
       "        0.06483982, 0.52791652, 0.06952762, 0.85131623, 0.79224382,\n",
       "        0.31803633, 0.61042294, 0.91676159, 0.88846294, 0.2410895 ],\n",
       "       [0.92965514, 0.50466759, 0.75457898, 0.63272708, 0.13474259,\n",
       "        0.73958355, 0.90136648, 0.26529961, 0.40699422, 0.39974163,\n",
       "        0.29137698, 0.63044698, 0.56595562, 0.07260971, 0.30811679]])"
      ]
     },
     "execution_count": 12,
     "metadata": {},
     "output_type": "execute_result"
    }
   ],
   "source": [
    "m = np.random.rand(15, 15)\n",
    "\n",
    "m"
   ]
  },
  {
   "cell_type": "code",
   "execution_count": 13,
   "metadata": {},
   "outputs": [
    {
     "data": {
      "text/plain": [
       "array([[0.64769422, 0.01280197, 0.10332379, 0.32472542, 0.53926875,\n",
       "        0.35774078, 0.15711208, 0.91487455, 0.96151735, 0.8574861 ,\n",
       "        0.2787421 , 0.97627813, 0.16413232, 0.77497004, 0.93129065],\n",
       "       [0.87966714, 0.67802113, 0.52240717, 0.00129652, 0.24219206,\n",
       "        0.29573666, 0.59375003, 0.9167803 , 0.83977965, 0.57015565,\n",
       "        0.49405311, 0.60344976, 0.71880822, 0.42688501, 0.78744598],\n",
       "       [0.23115814, 0.44284138, 0.559001  , 0.87296734, 0.83385501,\n",
       "        0.76287263, 0.18725481, 0.93564721, 0.03235705, 0.06040263,\n",
       "        0.36773658, 0.01834783, 0.25708776, 0.25396127, 0.99125592],\n",
       "       [0.53412026, 0.54795275, 0.4190027 , 0.74076988, 0.52652915,\n",
       "        0.77792548, 0.98081671, 0.29226625, 0.76875547, 0.75182905,\n",
       "        0.62994052, 0.02348766, 0.33351113, 0.29116542, 0.34284718],\n",
       "       [0.06004679, 0.3629819 , 0.45489988, 0.59510196, 0.64351631,\n",
       "        0.62140415, 0.72591893, 0.04797569, 0.14897765, 0.24530517,\n",
       "        0.84443655, 0.33352077, 0.01457049, 0.58208861, 0.66604658],\n",
       "       [0.88389317, 0.75294579, 0.5758225 , 0.19107437, 0.41112764,\n",
       "        0.42847477, 0.21291358, 0.76063809, 0.76406524, 0.27786192,\n",
       "        0.11715043, 0.34787207, 0.2108831 , 0.16040715, 0.99051515],\n",
       "       [0.34036683, 0.20182696, 0.31144307, 0.73699821, 0.01806397,\n",
       "        0.74629637, 0.45469551, 0.18806315, 0.10009931, 0.74903824,\n",
       "        0.10500258, 0.98127472, 0.65259609, 0.9396197 , 0.94090172]])"
      ]
     },
     "execution_count": 13,
     "metadata": {},
     "output_type": "execute_result"
    }
   ],
   "source": [
    "m2 = m[0:7, :]\n",
    "\n",
    "m2"
   ]
  },
  {
   "cell_type": "markdown",
   "metadata": {},
   "source": [
    "# Ejercicio 170\n",
    "\n",
    "Crear una arreglo con 10 elementos y luego aleatorizar sus posiciones."
   ]
  },
  {
   "cell_type": "markdown",
   "metadata": {},
   "source": [
    "## Solución:"
   ]
  },
  {
   "cell_type": "code",
   "execution_count": 14,
   "metadata": {},
   "outputs": [],
   "source": [
    "import numpy as np"
   ]
  },
  {
   "cell_type": "code",
   "execution_count": 15,
   "metadata": {},
   "outputs": [
    {
     "data": {
      "text/plain": [
       "array([0, 1, 2, 3, 4, 5, 6, 7, 8, 9])"
      ]
     },
     "execution_count": 15,
     "metadata": {},
     "output_type": "execute_result"
    }
   ],
   "source": [
    "a = np.arange(10)\n",
    "\n",
    "a"
   ]
  },
  {
   "cell_type": "code",
   "execution_count": 16,
   "metadata": {},
   "outputs": [],
   "source": [
    "np.random.shuffle(a)"
   ]
  },
  {
   "cell_type": "code",
   "execution_count": 17,
   "metadata": {},
   "outputs": [
    {
     "data": {
      "text/plain": [
       "array([4, 5, 2, 0, 7, 1, 9, 6, 3, 8])"
      ]
     },
     "execution_count": 17,
     "metadata": {},
     "output_type": "execute_result"
    }
   ],
   "source": [
    "a"
   ]
  },
  {
   "cell_type": "code",
   "execution_count": 18,
   "metadata": {},
   "outputs": [
    {
     "data": {
      "text/plain": [
       "array([6, 3, 2, 9, 4, 5, 8, 1, 0, 7])"
      ]
     },
     "execution_count": 18,
     "metadata": {},
     "output_type": "execute_result"
    }
   ],
   "source": [
    "np.random.permutation(10)"
   ]
  },
  {
   "cell_type": "markdown",
   "metadata": {},
   "source": [
    "# Ejercicio 171\n",
    "\n",
    "Normalizar una matriz de 5x5."
   ]
  },
  {
   "cell_type": "markdown",
   "metadata": {},
   "source": [
    "## Solución:"
   ]
  },
  {
   "cell_type": "code",
   "execution_count": 19,
   "metadata": {},
   "outputs": [],
   "source": [
    "import numpy as np"
   ]
  },
  {
   "cell_type": "code",
   "execution_count": 20,
   "metadata": {},
   "outputs": [
    {
     "data": {
      "text/plain": [
       "array([[0.45399668, 0.14205697, 0.88039212, 0.34684498, 0.69620826],\n",
       "       [0.30232685, 0.54419413, 0.74614654, 0.04591222, 0.12676902],\n",
       "       [0.07012442, 0.96605491, 0.93108695, 0.18120784, 0.55140124],\n",
       "       [0.80676556, 0.56427901, 0.08165361, 0.79809306, 0.9800152 ],\n",
       "       [0.53560022, 0.59802936, 0.15079609, 0.81332161, 0.0995853 ]])"
      ]
     },
     "execution_count": 20,
     "metadata": {},
     "output_type": "execute_result"
    }
   ],
   "source": [
    "m = np.random.random((5, 5))\n",
    "\n",
    "m"
   ]
  },
  {
   "cell_type": "code",
   "execution_count": 21,
   "metadata": {},
   "outputs": [
    {
     "data": {
      "text/plain": [
       "(0.045912217486786866, 0.9800151999399386)"
      ]
     },
     "execution_count": 21,
     "metadata": {},
     "output_type": "execute_result"
    }
   ],
   "source": [
    "minimo = m.min()\n",
    "maximo = m.max()\n",
    "\n",
    "minimo, maximo"
   ]
  },
  {
   "cell_type": "code",
   "execution_count": 22,
   "metadata": {},
   "outputs": [],
   "source": [
    "m = (m - minimo) / (maximo - minimo)"
   ]
  },
  {
   "cell_type": "code",
   "execution_count": 23,
   "metadata": {},
   "outputs": [
    {
     "data": {
      "text/plain": [
       "array([[0.4368731 , 0.10292736, 0.89334893, 0.3221623 , 0.69617168],\n",
       "       [0.2745036 , 0.5334336 , 0.74963289, 0.        , 0.08656091],\n",
       "       [0.02592027, 0.98505487, 0.94762007, 0.14484016, 0.54114914],\n",
       "       [0.81452833, 0.55493538, 0.0382628 , 0.80524402, 1.        ],\n",
       "       [0.52423342, 0.59106667, 0.11228299, 0.82154689, 0.05745949]])"
      ]
     },
     "execution_count": 23,
     "metadata": {},
     "output_type": "execute_result"
    }
   ],
   "source": [
    "m"
   ]
  },
  {
   "cell_type": "markdown",
   "metadata": {},
   "source": [
    "# Ejercicio 172\n",
    "\n",
    "Generar arreglo con elementos aleatorios y ordernarlo de forma ascendente."
   ]
  },
  {
   "cell_type": "markdown",
   "metadata": {},
   "source": [
    "## Solución:"
   ]
  },
  {
   "cell_type": "code",
   "execution_count": 24,
   "metadata": {},
   "outputs": [],
   "source": [
    "import numpy as np"
   ]
  },
  {
   "cell_type": "code",
   "execution_count": 25,
   "metadata": {},
   "outputs": [
    {
     "data": {
      "text/plain": [
       "array([0.55146614, 0.17721642, 0.22621309, 0.2797245 , 0.36008521,\n",
       "       0.25169087, 0.47399441, 0.31305991, 0.08142928, 0.69657589,\n",
       "       0.27351075, 0.67119878, 0.22967499, 0.84229768, 0.20293851])"
      ]
     },
     "execution_count": 25,
     "metadata": {},
     "output_type": "execute_result"
    }
   ],
   "source": [
    "a = np.random.random(15)\n",
    "\n",
    "a"
   ]
  },
  {
   "cell_type": "code",
   "execution_count": 26,
   "metadata": {},
   "outputs": [],
   "source": [
    "a.sort()"
   ]
  },
  {
   "cell_type": "code",
   "execution_count": 27,
   "metadata": {},
   "outputs": [
    {
     "data": {
      "text/plain": [
       "array([0.08142928, 0.17721642, 0.20293851, 0.22621309, 0.22967499,\n",
       "       0.25169087, 0.27351075, 0.2797245 , 0.31305991, 0.36008521,\n",
       "       0.47399441, 0.55146614, 0.67119878, 0.69657589, 0.84229768])"
      ]
     },
     "execution_count": 27,
     "metadata": {},
     "output_type": "execute_result"
    }
   ],
   "source": [
    "a"
   ]
  },
  {
   "cell_type": "markdown",
   "metadata": {},
   "source": [
    "# Ejercicio 173\n",
    "\n",
    "Encontrar el valor más cercano a un valor arbitrario."
   ]
  },
  {
   "cell_type": "markdown",
   "metadata": {},
   "source": [
    "## Solución:"
   ]
  },
  {
   "cell_type": "code",
   "execution_count": 28,
   "metadata": {},
   "outputs": [],
   "source": [
    "import numpy as np"
   ]
  },
  {
   "cell_type": "code",
   "execution_count": 29,
   "metadata": {},
   "outputs": [
    {
     "data": {
      "text/plain": [
       "array([ 8.47785611, 10.94464126,  3.98145678, 12.11036863,  1.48666639,\n",
       "        5.52092679, 12.75839945, 13.74372606, 18.85691308,  9.88305897])"
      ]
     },
     "execution_count": 29,
     "metadata": {},
     "output_type": "execute_result"
    }
   ],
   "source": [
    "a = np.random.uniform(1, 20, 10)\n",
    "\n",
    "a"
   ]
  },
  {
   "cell_type": "code",
   "execution_count": 30,
   "metadata": {},
   "outputs": [],
   "source": [
    "valor = 5"
   ]
  },
  {
   "cell_type": "code",
   "execution_count": 31,
   "metadata": {},
   "outputs": [
    {
     "data": {
      "text/plain": [
       "5.520926786467988"
      ]
     },
     "execution_count": 31,
     "metadata": {},
     "output_type": "execute_result"
    }
   ],
   "source": [
    "a.flat[np.abs(a - valor).argmin()]"
   ]
  },
  {
   "cell_type": "markdown",
   "metadata": {},
   "source": [
    "# Ejercicio 174\n",
    "\n",
    "Comprobar si dos arreglos aleatorios son iguales."
   ]
  },
  {
   "cell_type": "markdown",
   "metadata": {},
   "source": [
    "## Solución:"
   ]
  },
  {
   "cell_type": "code",
   "execution_count": 32,
   "metadata": {},
   "outputs": [],
   "source": [
    "import numpy as np"
   ]
  },
  {
   "cell_type": "code",
   "execution_count": 33,
   "metadata": {},
   "outputs": [
    {
     "data": {
      "text/plain": [
       "array([1, 0, 1, 0, 1])"
      ]
     },
     "execution_count": 33,
     "metadata": {},
     "output_type": "execute_result"
    }
   ],
   "source": [
    "a = np.random.randint(0, 2, 5)\n",
    "a"
   ]
  },
  {
   "cell_type": "code",
   "execution_count": 34,
   "metadata": {},
   "outputs": [
    {
     "data": {
      "text/plain": [
       "array([0, 0, 1, 0, 1])"
      ]
     },
     "execution_count": 34,
     "metadata": {},
     "output_type": "execute_result"
    }
   ],
   "source": [
    "b = np.random.randint(0, 2, 5)\n",
    "b"
   ]
  },
  {
   "cell_type": "code",
   "execution_count": 35,
   "metadata": {},
   "outputs": [
    {
     "data": {
      "text/plain": [
       "False"
      ]
     },
     "execution_count": 35,
     "metadata": {},
     "output_type": "execute_result"
    }
   ],
   "source": [
    "np.allclose(a, b)"
   ]
  },
  {
   "cell_type": "markdown",
   "metadata": {},
   "source": [
    "# Ejercicio 175\n",
    "\n",
    "Generar un arreglo con valores aleatorios y reemplazar el valor mayor con -1."
   ]
  },
  {
   "cell_type": "markdown",
   "metadata": {},
   "source": [
    "## Solución:"
   ]
  },
  {
   "cell_type": "code",
   "execution_count": 36,
   "metadata": {},
   "outputs": [],
   "source": [
    "import numpy as np"
   ]
  },
  {
   "cell_type": "code",
   "execution_count": 37,
   "metadata": {},
   "outputs": [
    {
     "data": {
      "text/plain": [
       "array([0.50437848, 0.30733231, 0.87464564, 0.73424977, 0.95561016,\n",
       "       0.31682677, 0.5963207 , 0.01177664, 0.03458831, 0.93280109,\n",
       "       0.32989026, 0.1190464 , 0.68569338, 0.50855383, 0.69138014,\n",
       "       0.76522328, 0.02500786, 0.29230836, 0.97599546, 0.25285782])"
      ]
     },
     "execution_count": 37,
     "metadata": {},
     "output_type": "execute_result"
    }
   ],
   "source": [
    "a = np.random.random(20)\n",
    "\n",
    "a"
   ]
  },
  {
   "cell_type": "code",
   "execution_count": 38,
   "metadata": {},
   "outputs": [
    {
     "data": {
      "text/plain": [
       "0.975995464011742"
      ]
     },
     "execution_count": 38,
     "metadata": {},
     "output_type": "execute_result"
    }
   ],
   "source": [
    "a.max()"
   ]
  },
  {
   "cell_type": "code",
   "execution_count": 39,
   "metadata": {},
   "outputs": [],
   "source": [
    "a[a.argmax()] = -1"
   ]
  },
  {
   "cell_type": "code",
   "execution_count": 40,
   "metadata": {},
   "outputs": [
    {
     "data": {
      "text/plain": [
       "array([ 0.50437848,  0.30733231,  0.87464564,  0.73424977,  0.95561016,\n",
       "        0.31682677,  0.5963207 ,  0.01177664,  0.03458831,  0.93280109,\n",
       "        0.32989026,  0.1190464 ,  0.68569338,  0.50855383,  0.69138014,\n",
       "        0.76522328,  0.02500786,  0.29230836, -1.        ,  0.25285782])"
      ]
     },
     "execution_count": 40,
     "metadata": {},
     "output_type": "execute_result"
    }
   ],
   "source": [
    "a"
   ]
  },
  {
   "cell_type": "markdown",
   "metadata": {},
   "source": [
    "# Ejercicio 176\n",
    "\n",
    "Encontrar el valor más frecuente en un arreglo."
   ]
  },
  {
   "cell_type": "markdown",
   "metadata": {},
   "source": [
    "## Solución:"
   ]
  },
  {
   "cell_type": "code",
   "execution_count": 41,
   "metadata": {},
   "outputs": [],
   "source": [
    "import numpy as np"
   ]
  },
  {
   "cell_type": "code",
   "execution_count": 42,
   "metadata": {},
   "outputs": [
    {
     "data": {
      "text/plain": [
       "array([13,  1, 10,  2, 12,  5,  1, 14, 13,  1, 12,  6, 10, 12,  7, 14, 13,\n",
       "        2, 14,  0])"
      ]
     },
     "execution_count": 42,
     "metadata": {},
     "output_type": "execute_result"
    }
   ],
   "source": [
    "a = np.random.randint(0, 15, 20)\n",
    "\n",
    "a"
   ]
  },
  {
   "cell_type": "code",
   "execution_count": 43,
   "metadata": {},
   "outputs": [
    {
     "data": {
      "text/plain": [
       "1"
      ]
     },
     "execution_count": 43,
     "metadata": {},
     "output_type": "execute_result"
    }
   ],
   "source": [
    "np.bincount(a).argmax()"
   ]
  },
  {
   "cell_type": "markdown",
   "metadata": {},
   "source": [
    "# Ejercicio 177\n",
    "\n",
    "A partir de una matriz con coordenadas cartesianas realizar la conversión a coordendas polares."
   ]
  },
  {
   "cell_type": "markdown",
   "metadata": {},
   "source": [
    "## Solución:"
   ]
  },
  {
   "cell_type": "code",
   "execution_count": 44,
   "metadata": {},
   "outputs": [],
   "source": [
    "import numpy as np"
   ]
  },
  {
   "cell_type": "code",
   "execution_count": 45,
   "metadata": {},
   "outputs": [
    {
     "data": {
      "text/plain": [
       "array([0.41041381, 0.03411976, 0.48700534, 0.43749638, 0.9339806 ,\n",
       "       0.09443086, 0.36996966, 0.39159732, 0.03181983, 0.39569267,\n",
       "       0.19028769, 0.34245803, 0.5873676 , 0.38191875, 0.24055526])"
      ]
     },
     "execution_count": 45,
     "metadata": {},
     "output_type": "execute_result"
    }
   ],
   "source": [
    "m = np.random.random((15, 2))\n",
    "\n",
    "x = m[:,0]\n",
    "y = m[:,1]\n",
    "\n",
    "x"
   ]
  },
  {
   "cell_type": "code",
   "execution_count": 46,
   "metadata": {},
   "outputs": [
    {
     "data": {
      "text/plain": [
       "array([0.90913607, 0.35696928, 0.32965596, 0.53597949, 0.27502437,\n",
       "       0.96376522, 0.89584455, 0.03760622, 0.01800424, 0.61130039,\n",
       "       0.50310067, 0.66712238, 0.12477475, 0.60794484, 0.03090979])"
      ]
     },
     "execution_count": 46,
     "metadata": {},
     "output_type": "execute_result"
    }
   ],
   "source": [
    "y"
   ]
  },
  {
   "cell_type": "code",
   "execution_count": 47,
   "metadata": {},
   "outputs": [
    {
     "data": {
      "text/plain": [
       "array([0.99748077, 0.35859619, 0.58808779, 0.69186494, 0.97363143,\n",
       "       0.9683804 , 0.96923424, 0.3933989 , 0.03656028, 0.72819012,\n",
       "       0.53788445, 0.74988651, 0.60047434, 0.71795463, 0.24253299])"
      ]
     },
     "execution_count": 47,
     "metadata": {},
     "output_type": "execute_result"
    }
   ],
   "source": [
    "r = np.sqrt(x**2 + y**2)\n",
    "\n",
    "r"
   ]
  },
  {
   "cell_type": "code",
   "execution_count": 48,
   "metadata": {},
   "outputs": [
    {
     "data": {
      "text/plain": [
       "array([1.14675156, 1.47550404, 0.59505668, 0.88622159, 0.28637088,\n",
       "       1.4731269 , 1.17914701, 0.09573928, 0.51490645, 0.9963239 ,\n",
       "       1.20919702, 1.09653681, 0.20931882, 1.00989   , 0.12779327])"
      ]
     },
     "execution_count": 48,
     "metadata": {},
     "output_type": "execute_result"
    }
   ],
   "source": [
    "t = np.arctan2(y, x)\n",
    "\n",
    "t"
   ]
  },
  {
   "cell_type": "markdown",
   "metadata": {},
   "source": [
    "# Ejercicio 178\n",
    "\n",
    "Obtener los `n` números mayores en un arreglo."
   ]
  },
  {
   "cell_type": "markdown",
   "metadata": {},
   "source": [
    "## Solución:"
   ]
  },
  {
   "cell_type": "code",
   "execution_count": 49,
   "metadata": {},
   "outputs": [],
   "source": [
    "import numpy as np"
   ]
  },
  {
   "cell_type": "code",
   "execution_count": 50,
   "metadata": {},
   "outputs": [
    {
     "data": {
      "text/plain": [
       "array([ 0,  1,  2,  3,  4,  5,  6,  7,  8,  9, 10, 11, 12, 13, 14])"
      ]
     },
     "execution_count": 50,
     "metadata": {},
     "output_type": "execute_result"
    }
   ],
   "source": [
    "a = np.arange(15)\n",
    "\n",
    "a"
   ]
  },
  {
   "cell_type": "code",
   "execution_count": 51,
   "metadata": {},
   "outputs": [
    {
     "data": {
      "text/plain": [
       "array([ 0, 12, 14, 10,  7,  1,  4,  5, 13, 11,  6,  3,  9,  2,  8])"
      ]
     },
     "execution_count": 51,
     "metadata": {},
     "output_type": "execute_result"
    }
   ],
   "source": [
    "np.random.shuffle(a)\n",
    "\n",
    "a"
   ]
  },
  {
   "cell_type": "code",
   "execution_count": 52,
   "metadata": {},
   "outputs": [],
   "source": [
    "n = 3"
   ]
  },
  {
   "cell_type": "code",
   "execution_count": 53,
   "metadata": {},
   "outputs": [
    {
     "data": {
      "text/plain": [
       "array([12, 13, 14])"
      ]
     },
     "execution_count": 53,
     "metadata": {},
     "output_type": "execute_result"
    }
   ],
   "source": [
    "a[np.argsort(a)[-n:]]"
   ]
  },
  {
   "cell_type": "markdown",
   "metadata": {},
   "source": [
    "# Ejercicio 179\n",
    "\n",
    "Ordenar una matriz por diferentes ejes, y por la versión arreglo de sus elementos."
   ]
  },
  {
   "cell_type": "markdown",
   "metadata": {},
   "source": [
    "## Solución:"
   ]
  },
  {
   "cell_type": "code",
   "execution_count": 54,
   "metadata": {},
   "outputs": [],
   "source": [
    "import numpy as np"
   ]
  },
  {
   "cell_type": "code",
   "execution_count": 55,
   "metadata": {},
   "outputs": [
    {
     "data": {
      "text/plain": [
       "array([[3, 2, 1],\n",
       "       [8, 4, 3],\n",
       "       [5, 6, 0]])"
      ]
     },
     "execution_count": 55,
     "metadata": {},
     "output_type": "execute_result"
    }
   ],
   "source": [
    "m = np.array([[3, 2, 1], [8, 4, 3], [5, 6, 0]])\n",
    "\n",
    "m"
   ]
  },
  {
   "cell_type": "code",
   "execution_count": 56,
   "metadata": {},
   "outputs": [
    {
     "data": {
      "text/plain": [
       "array([[3, 2, 0],\n",
       "       [5, 4, 1],\n",
       "       [8, 6, 3]])"
      ]
     },
     "execution_count": 56,
     "metadata": {},
     "output_type": "execute_result"
    }
   ],
   "source": [
    "np.sort(m, axis=0)"
   ]
  },
  {
   "cell_type": "code",
   "execution_count": 57,
   "metadata": {},
   "outputs": [
    {
     "data": {
      "text/plain": [
       "array([[1, 2, 3],\n",
       "       [3, 4, 8],\n",
       "       [0, 5, 6]])"
      ]
     },
     "execution_count": 57,
     "metadata": {},
     "output_type": "execute_result"
    }
   ],
   "source": [
    "np.sort(m)"
   ]
  },
  {
   "cell_type": "code",
   "execution_count": 58,
   "metadata": {},
   "outputs": [
    {
     "data": {
      "text/plain": [
       "array([0, 1, 2, 3, 3, 4, 5, 6, 8])"
      ]
     },
     "execution_count": 58,
     "metadata": {},
     "output_type": "execute_result"
    }
   ],
   "source": [
    "np.sort(m, axis=None)"
   ]
  },
  {
   "cell_type": "markdown",
   "metadata": {},
   "source": [
    "# Ejercicio 180\n",
    "\n",
    "Crear un arreglo con elementos definidos a partir de una estructura arbitraria."
   ]
  },
  {
   "cell_type": "markdown",
   "metadata": {},
   "source": [
    "## Solución:"
   ]
  },
  {
   "cell_type": "code",
   "execution_count": 59,
   "metadata": {},
   "outputs": [],
   "source": [
    "import numpy as np"
   ]
  },
  {
   "cell_type": "code",
   "execution_count": 60,
   "metadata": {},
   "outputs": [],
   "source": [
    "estudiante = [('nombre', 'S15'), ('curso', int), ('nota', float)]"
   ]
  },
  {
   "cell_type": "code",
   "execution_count": 61,
   "metadata": {},
   "outputs": [
    {
     "data": {
      "text/plain": [
       "[('Edward', 1, 4.5), ('German', 2, 4.3), ('Paula', 1, 4.1)]"
      ]
     },
     "execution_count": 61,
     "metadata": {},
     "output_type": "execute_result"
    }
   ],
   "source": [
    "estudiantes = [('Edward', 1, 4.5), ('German', 2, 4.3), ('Paula', 1, 4.1)]\n",
    "estudiantes"
   ]
  },
  {
   "cell_type": "code",
   "execution_count": 62,
   "metadata": {},
   "outputs": [],
   "source": [
    "arrEstudiantes = np.array(estudiantes, dtype=estudiante)"
   ]
  },
  {
   "cell_type": "code",
   "execution_count": 63,
   "metadata": {},
   "outputs": [
    {
     "data": {
      "text/plain": [
       "array([(b'Edward', 1, 4.5), (b'German', 2, 4.3), (b'Paula', 1, 4.1)],\n",
       "      dtype=[('nombre', 'S15'), ('curso', '<i4'), ('nota', '<f8')])"
      ]
     },
     "execution_count": 63,
     "metadata": {},
     "output_type": "execute_result"
    }
   ],
   "source": [
    "arrEstudiantes"
   ]
  },
  {
   "cell_type": "code",
   "execution_count": 64,
   "metadata": {},
   "outputs": [
    {
     "data": {
      "text/plain": [
       "array([(b'Paula', 1, 4.1), (b'German', 2, 4.3), (b'Edward', 1, 4.5)],\n",
       "      dtype=[('nombre', 'S15'), ('curso', '<i4'), ('nota', '<f8')])"
      ]
     },
     "execution_count": 64,
     "metadata": {},
     "output_type": "execute_result"
    }
   ],
   "source": [
    "np.sort(arrEstudiantes, order='nota')"
   ]
  },
  {
   "cell_type": "markdown",
   "metadata": {},
   "source": [
    "# Ejercicio 181\n",
    "\n",
    "Crear una estructura de datos para representar a un estudiante, crear registros, y ordenar por el identificador de clase y nota."
   ]
  },
  {
   "cell_type": "markdown",
   "metadata": {},
   "source": [
    "## Solución:"
   ]
  },
  {
   "cell_type": "code",
   "execution_count": 65,
   "metadata": {},
   "outputs": [],
   "source": [
    "import numpy as np"
   ]
  },
  {
   "cell_type": "code",
   "execution_count": 66,
   "metadata": {},
   "outputs": [
    {
     "data": {
      "text/plain": [
       "[('nombre', 'S15'), ('curso', int), ('nota', float)]"
      ]
     },
     "execution_count": 66,
     "metadata": {},
     "output_type": "execute_result"
    }
   ],
   "source": [
    "tipo_dato_estudiante = [('nombre', 'S15'), ('curso', int), ('nota', float)]\n",
    "tipo_dato_estudiante"
   ]
  },
  {
   "cell_type": "code",
   "execution_count": 67,
   "metadata": {},
   "outputs": [
    {
     "data": {
      "text/plain": [
       "[('Edward', 1, 4.5), ('German', 2, 4.3), ('Daniela', 1, 4.4)]"
      ]
     },
     "execution_count": 67,
     "metadata": {},
     "output_type": "execute_result"
    }
   ],
   "source": [
    "estudiantes = [('Edward', 1, 4.5), ('German', 2, 4.3), ('Daniela', 1, 4.4)]\n",
    "\n",
    "estudiantes"
   ]
  },
  {
   "cell_type": "code",
   "execution_count": 68,
   "metadata": {},
   "outputs": [
    {
     "data": {
      "text/plain": [
       "array([(b'Edward', 1, 4.5), (b'German', 2, 4.3), (b'Daniela', 1, 4.4)],\n",
       "      dtype=[('nombre', 'S15'), ('curso', '<i4'), ('nota', '<f8')])"
      ]
     },
     "execution_count": 68,
     "metadata": {},
     "output_type": "execute_result"
    }
   ],
   "source": [
    "arreglo_estudiantes = np.array(estudiantes, dtype=tipo_dato_estudiante)\n",
    "\n",
    "arreglo_estudiantes"
   ]
  },
  {
   "cell_type": "code",
   "execution_count": 69,
   "metadata": {},
   "outputs": [
    {
     "data": {
      "text/plain": [
       "array([(b'Daniela', 1, 4.4), (b'Edward', 1, 4.5), (b'German', 2, 4.3)],\n",
       "      dtype=[('nombre', 'S15'), ('curso', '<i4'), ('nota', '<f8')])"
      ]
     },
     "execution_count": 69,
     "metadata": {},
     "output_type": "execute_result"
    }
   ],
   "source": [
    "np.sort(arreglo_estudiantes, order=['curso', 'nota'])"
   ]
  },
  {
   "cell_type": "markdown",
   "metadata": {},
   "source": [
    "# Ejercicio 182\n",
    "\n",
    "Obtener e imprimir los índices que describen el ordendamiento por múltiples columnas."
   ]
  },
  {
   "cell_type": "markdown",
   "metadata": {},
   "source": [
    "## Solución:"
   ]
  },
  {
   "cell_type": "code",
   "execution_count": 70,
   "metadata": {},
   "outputs": [],
   "source": [
    "import numpy as np"
   ]
  },
  {
   "cell_type": "code",
   "execution_count": 71,
   "metadata": {},
   "outputs": [
    {
     "data": {
      "text/plain": [
       "array([27, 21, 29, 34, 37, 19, 23, 24, 18, 31])"
      ]
     },
     "execution_count": 71,
     "metadata": {},
     "output_type": "execute_result"
    }
   ],
   "source": [
    "edades = np.array([27, 21, 29, 34, 37, 19, 23, 24, 18, 31])\n",
    "alturas = np.array([1.72, 1.65, 1.68, 1.55, 1.63, 1.73, 1.81, 1.69, 1.75, 1.83])\n",
    "\n",
    "edades"
   ]
  },
  {
   "cell_type": "code",
   "execution_count": 72,
   "metadata": {},
   "outputs": [
    {
     "data": {
      "text/plain": [
       "array([1.72, 1.65, 1.68, 1.55, 1.63, 1.73, 1.81, 1.69, 1.75, 1.83])"
      ]
     },
     "execution_count": 72,
     "metadata": {},
     "output_type": "execute_result"
    }
   ],
   "source": [
    "alturas"
   ]
  },
  {
   "cell_type": "code",
   "execution_count": 73,
   "metadata": {},
   "outputs": [],
   "source": [
    "indices = np.lexsort((edades, alturas))"
   ]
  },
  {
   "cell_type": "code",
   "execution_count": 74,
   "metadata": {},
   "outputs": [
    {
     "data": {
      "text/plain": [
       "array([3, 4, 1, 2, 7, 0, 5, 8, 6, 9], dtype=int64)"
      ]
     },
     "execution_count": 74,
     "metadata": {},
     "output_type": "execute_result"
    }
   ],
   "source": [
    "indices"
   ]
  },
  {
   "cell_type": "code",
   "execution_count": 75,
   "metadata": {},
   "outputs": [
    {
     "name": "stdout",
     "output_type": "stream",
     "text": [
      "34 1.55\n",
      "37 1.63\n",
      "21 1.65\n",
      "29 1.68\n",
      "24 1.69\n",
      "27 1.72\n",
      "19 1.73\n",
      "18 1.75\n",
      "23 1.81\n",
      "31 1.83\n"
     ]
    }
   ],
   "source": [
    "for i in indices:\n",
    "    print(edades[i], alturas[i])"
   ]
  },
  {
   "cell_type": "markdown",
   "metadata": {},
   "source": [
    "# Ejercicio 183\n",
    "\n",
    "Obtener los índices de ordenamiento de un arreglo."
   ]
  },
  {
   "cell_type": "markdown",
   "metadata": {},
   "source": [
    "## Solución:"
   ]
  },
  {
   "cell_type": "code",
   "execution_count": 76,
   "metadata": {},
   "outputs": [],
   "source": [
    "import numpy as np"
   ]
  },
  {
   "cell_type": "code",
   "execution_count": 77,
   "metadata": {},
   "outputs": [
    {
     "data": {
      "text/plain": [
       "array([13, 18,  1,  5,  8, 23, 27, 29, 31,  4])"
      ]
     },
     "execution_count": 77,
     "metadata": {},
     "output_type": "execute_result"
    }
   ],
   "source": [
    "edades = np.array([13, 18, 1, 5, 8, 23, 27, 29, 31, 4])\n",
    "\n",
    "edades"
   ]
  },
  {
   "cell_type": "code",
   "execution_count": 78,
   "metadata": {},
   "outputs": [],
   "source": [
    "indices = np.argsort(edades)"
   ]
  },
  {
   "cell_type": "code",
   "execution_count": 79,
   "metadata": {},
   "outputs": [
    {
     "data": {
      "text/plain": [
       "array([2, 9, 3, 4, 0, 1, 5, 6, 7, 8], dtype=int64)"
      ]
     },
     "execution_count": 79,
     "metadata": {},
     "output_type": "execute_result"
    }
   ],
   "source": [
    "indices"
   ]
  },
  {
   "cell_type": "code",
   "execution_count": 80,
   "metadata": {},
   "outputs": [
    {
     "data": {
      "text/plain": [
       "31"
      ]
     },
     "execution_count": 80,
     "metadata": {},
     "output_type": "execute_result"
    }
   ],
   "source": [
    "edades[8]"
   ]
  },
  {
   "cell_type": "markdown",
   "metadata": {},
   "source": [
    "# Ejercicio 184\n",
    "\n",
    "Ordenar un arreglo con elementos imaginarios, primero ordenar por la parte real y luego  por la parte imaginaria."
   ]
  },
  {
   "cell_type": "markdown",
   "metadata": {},
   "source": [
    "## Solución:"
   ]
  },
  {
   "cell_type": "code",
   "execution_count": 81,
   "metadata": {},
   "outputs": [],
   "source": [
    "import numpy as np"
   ]
  },
  {
   "cell_type": "code",
   "execution_count": 82,
   "metadata": {},
   "outputs": [
    {
     "data": {
      "text/plain": [
       "[(3+5j), (2+3j), (-5-1j), (8+2j), (7+1j), (8+3j)]"
      ]
     },
     "execution_count": 82,
     "metadata": {},
     "output_type": "execute_result"
    }
   ],
   "source": [
    "complejos = [3+5j, 2+3j, -5-1j, 8+2j, 7+1j, 8+3j]\n",
    "\n",
    "complejos"
   ]
  },
  {
   "cell_type": "code",
   "execution_count": 83,
   "metadata": {},
   "outputs": [
    {
     "data": {
      "text/plain": [
       "array([-5.-1.j,  2.+3.j,  3.+5.j,  7.+1.j,  8.+2.j,  8.+3.j])"
      ]
     },
     "execution_count": 83,
     "metadata": {},
     "output_type": "execute_result"
    }
   ],
   "source": [
    "np.sort_complex(complejos)"
   ]
  },
  {
   "cell_type": "markdown",
   "metadata": {},
   "source": [
    "# Ejercicio 185\n",
    "\n",
    "Ordenar los primeros 10 elementos de un arreglo."
   ]
  },
  {
   "cell_type": "markdown",
   "metadata": {},
   "source": [
    "## Solución:"
   ]
  },
  {
   "cell_type": "code",
   "execution_count": 84,
   "metadata": {},
   "outputs": [],
   "source": [
    "import numpy as np"
   ]
  },
  {
   "cell_type": "code",
   "execution_count": 85,
   "metadata": {},
   "outputs": [
    {
     "data": {
      "text/plain": [
       "array([0.24983518, 0.31562052, 0.45660906, 0.1810038 , 0.28470359,\n",
       "       0.655801  , 0.84771262, 0.06633803, 0.82696248, 0.75064789,\n",
       "       0.59740559, 0.69638157, 0.66890359, 0.44369222, 0.29958995,\n",
       "       0.4743603 , 0.76020997, 0.99911113, 0.00927436, 0.68023649])"
      ]
     },
     "execution_count": 85,
     "metadata": {},
     "output_type": "execute_result"
    }
   ],
   "source": [
    "arreglo = np.random.random(20)\n",
    "\n",
    "arreglo"
   ]
  },
  {
   "cell_type": "code",
   "execution_count": 86,
   "metadata": {},
   "outputs": [
    {
     "data": {
      "text/plain": [
       "array([0.00927436, 0.06633803, 0.1810038 , 0.24983518, 0.28470359,\n",
       "       0.29958995, 0.31562052, 0.44369222, 0.45660906, 0.4743603 ,\n",
       "       0.59740559, 0.69638157, 0.66890359, 0.84771262, 0.655801  ,\n",
       "       0.75064789, 0.76020997, 0.99911113, 0.82696248, 0.68023649])"
      ]
     },
     "execution_count": 86,
     "metadata": {},
     "output_type": "execute_result"
    }
   ],
   "source": [
    "arreglo[np.argpartition(arreglo, range(10))]"
   ]
  },
  {
   "cell_type": "markdown",
   "metadata": {},
   "source": [
    "# Ejercicio 186\n",
    "\n",
    "Ordenar los elementos a partir de una ubicación dada."
   ]
  },
  {
   "cell_type": "markdown",
   "metadata": {},
   "source": [
    "## Solución:"
   ]
  },
  {
   "cell_type": "code",
   "execution_count": 87,
   "metadata": {},
   "outputs": [],
   "source": [
    "import numpy as np"
   ]
  },
  {
   "cell_type": "code",
   "execution_count": 88,
   "metadata": {},
   "outputs": [
    {
     "data": {
      "text/plain": [
       "array([ 70,  50,  20,  30, -11,  60,  50,  40])"
      ]
     },
     "execution_count": 88,
     "metadata": {},
     "output_type": "execute_result"
    }
   ],
   "source": [
    "a = np.array([70, 50, 20, 30, -11, 60, 50, 40])\n",
    "a"
   ]
  },
  {
   "cell_type": "code",
   "execution_count": 89,
   "metadata": {},
   "outputs": [
    {
     "data": {
      "text/plain": [
       "array([-11,  30,  20,  40,  50,  50,  60,  70])"
      ]
     },
     "execution_count": 89,
     "metadata": {},
     "output_type": "execute_result"
    }
   ],
   "source": [
    "np.partition(a, 4)"
   ]
  }
 ],
 "metadata": {
  "kernelspec": {
   "display_name": "Python 3",
   "language": "python",
   "name": "python3"
  },
  "language_info": {
   "codemirror_mode": {
    "name": "ipython",
    "version": 3
   },
   "file_extension": ".py",
   "mimetype": "text/x-python",
   "name": "python",
   "nbconvert_exporter": "python",
   "pygments_lexer": "ipython3",
   "version": "3.7.1"
  }
 },
 "nbformat": 4,
 "nbformat_minor": 2
}
